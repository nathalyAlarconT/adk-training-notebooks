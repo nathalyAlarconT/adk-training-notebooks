{
  "nbformat": 4,
  "nbformat_minor": 0,
  "metadata": {
    "colab": {
      "provenance": [],
      "include_colab_link": true
    },
    "kernelspec": {
      "name": "python3",
      "display_name": "Python 3"
    },
    "language_info": {
      "name": "python"
    }
  },
  "cells": [
    {
      "cell_type": "markdown",
      "metadata": {
        "id": "view-in-github",
        "colab_type": "text"
      },
      "source": [
        "<a href=\"https://colab.research.google.com/github/nathalyAlarconT/adk-training-notebooks/blob/main/ADK_Basic_Serper_Agent.ipynb\" target=\"_parent\"><img src=\"https://colab.research.google.com/assets/colab-badge.svg\" alt=\"Open In Colab\"/></a>"
      ]
    },
    {
      "cell_type": "markdown",
      "source": [
        "# An agent that searches for news on the web using Serper."
      ],
      "metadata": {
        "id": "6zjUrsLolx4A"
      }
    },
    {
      "cell_type": "markdown",
      "source": [
        "This agent will have one tool to search in the news using Serper."
      ],
      "metadata": {
        "id": "bXzIOrZDDDfs"
      }
    },
    {
      "cell_type": "markdown",
      "source": [
        "# Required Libraries"
      ],
      "metadata": {
        "id": "7TU7Vt6R_18f"
      }
    },
    {
      "cell_type": "code",
      "source": [
        "%%capture\n",
        "!pip install google-adk\n",
        "!pip install crewai-tools"
      ],
      "metadata": {
        "id": "ArYkP2XJzNKt"
      },
      "execution_count": 1,
      "outputs": []
    },
    {
      "cell_type": "markdown",
      "source": [
        "# Ingredients"
      ],
      "metadata": {
        "id": "eXw8oJrsAVBl"
      }
    },
    {
      "cell_type": "markdown",
      "source": [
        "## First Ingredient\n",
        "Let's get the API KEYs that we need:\n",
        "- GOOGLE API KEY\n",
        "Go to: https://aistudio.google.com/apikey\n",
        "\n",
        "Create a Secret in Google Colab with the following name: GOOGLE_API_KEY"
      ],
      "metadata": {
        "id": "Hcv2k2yRgwN0"
      }
    },
    {
      "cell_type": "markdown",
      "source": [
        "## Second Ingredient\n",
        "We are going to use SERPER to perform searches in Google\n",
        "- SERPER_API_KEY Go to: https://serper.dev/api-key\n",
        "\n",
        "Create a Secret in Google Colab with the following name: SERPER_API_KEY"
      ],
      "metadata": {
        "id": "LZM71erAiVes"
      }
    },
    {
      "cell_type": "markdown",
      "source": [
        "# Let's begin"
      ],
      "metadata": {
        "id": "pr4SinHjAaUV"
      }
    },
    {
      "cell_type": "code",
      "source": [
        "import os\n",
        "from google.adk.agents import Agent\n",
        "from google.adk.runners import Runner\n",
        "from google.adk.sessions import InMemorySessionService\n",
        "from google.adk.tools.crewai_tool import CrewaiTool\n",
        "from google.genai import types\n",
        "from crewai_tools import SerperDevTool"
      ],
      "metadata": {
        "id": "LhEsMACPzCf-"
      },
      "execution_count": 2,
      "outputs": []
    },
    {
      "cell_type": "code",
      "source": [
        "from google.colab import userdata\n",
        "\n",
        "os.environ[\"GOOGLE_GENAI_USE_VERTEXAI\"] = \"FALSE\"\n",
        "os.environ[\"GOOGLE_API_KEY\"] = userdata.get('GOOGLE_API_KEY')"
      ],
      "metadata": {
        "id": "u6BSNAXA3n6H"
      },
      "execution_count": 4,
      "outputs": []
    },
    {
      "cell_type": "code",
      "source": [
        "# Constants\n",
        "APP_NAME = \"news_app\"\n",
        "USER_ID = \"user1\"\n",
        "SESSION_ID = \"sess_1\"\n",
        "\n"
      ],
      "metadata": {
        "id": "FGsdx6Qk0-ZE"
      },
      "execution_count": 5,
      "outputs": []
    },
    {
      "cell_type": "code",
      "source": [
        "# Let's define the model to use\n",
        "LLM_MODEL = \"gemini-2.0-flash-lite\""
      ],
      "metadata": {
        "id": "pYCgtrjAAr4a"
      },
      "execution_count": 19,
      "outputs": []
    },
    {
      "cell_type": "code",
      "source": [
        "\n",
        "# Ensure SERPER_API_KEY is set in your environment\n",
        "\n",
        "SERVER_API_KEY = userdata.get('SERPER_API_KEY')\n",
        "\n",
        "os.environ['SERPER_API_KEY'] = SERVER_API_KEY\n",
        "\n",
        "serper_tool_instance = SerperDevTool(\n",
        "    n_results=3,\n",
        "    save_file=False,\n",
        "\n",
        ")\n"
      ],
      "metadata": {
        "id": "31uyWsWv08ja"
      },
      "execution_count": 20,
      "outputs": []
    },
    {
      "cell_type": "code",
      "execution_count": 21,
      "metadata": {
        "id": "5YKCN3T1p7e3"
      },
      "outputs": [],
      "source": [
        "adk_serper_tool = CrewaiTool(\n",
        "    name=\"InternetNewsSearch\",\n",
        "    description=\"This tool performs targeted searches on the internet to find recent news articles. Use it when you need to gather up-to-date information on current events or specific topics that are likely to be covered in news publications.\",\n",
        "    tool=serper_tool_instance\n",
        ")"
      ]
    },
    {
      "cell_type": "code",
      "source": [
        "serper_agent = Agent(\n",
        "    name=\"internet_research_agent\", # More descriptive name\n",
        "    model=LLM_MODEL,\n",
        "    description=\"An expert agent designed to find answers to user questions by performing **targeted searches across the internet** using the Serper API.\",\n",
        "    instruction=\"My primary function is to **accurately answer your questions by searching the internet for relevant information**. Provide clear and concise queries for the best results.\",\n",
        "    tools=[adk_serper_tool]\n",
        ")"
      ],
      "metadata": {
        "id": "kej4HJT02b5i"
      },
      "execution_count": 22,
      "outputs": []
    },
    {
      "cell_type": "code",
      "source": [
        "# Session and Runner\n",
        "session_service = InMemorySessionService()\n",
        "\n",
        "session = await session_service.create_session(\n",
        "    app_name=APP_NAME,\n",
        "    user_id=USER_ID,\n",
        "    session_id=SESSION_ID\n",
        ")\n",
        "print(f\"Session created: App='{APP_NAME}', User='{USER_ID}', Session='{SESSION_ID}'\")\n",
        "\n",
        "\n",
        "runner = Runner(agent=serper_agent, app_name=APP_NAME, session_service=session_service)\n"
      ],
      "metadata": {
        "id": "XdowxlwB2kxJ",
        "colab": {
          "base_uri": "https://localhost:8080/"
        },
        "outputId": "bf3ff3ca-f1a2-455a-a804-f002236c69a7"
      },
      "execution_count": 23,
      "outputs": [
        {
          "output_type": "stream",
          "name": "stdout",
          "text": [
            "Session created: App='news_app', User='user1', Session='sess_1'\n"
          ]
        }
      ]
    },
    {
      "cell_type": "code",
      "source": [
        "# Agent Interaction\n",
        "def call_agent(query):\n",
        "    content = types.Content(role='user', parts=[types.Part(text=query)])\n",
        "    events = runner.run(user_id=USER_ID, session_id=SESSION_ID, new_message=content)\n",
        "\n",
        "    for event in events:\n",
        "        if event.is_final_response():\n",
        "            final_response = event.content.parts[0].text\n",
        "            print(\"Agent Response: \", final_response)\n",
        "\n"
      ],
      "metadata": {
        "id": "uAopE-py2m3I"
      },
      "execution_count": 24,
      "outputs": []
    },
    {
      "cell_type": "code",
      "source": [
        "call_agent(\"what's are the latest news about AI Agents?\")"
      ],
      "metadata": {
        "colab": {
          "base_uri": "https://localhost:8080/"
        },
        "id": "vbMyhitY2qcs",
        "outputId": "cc426df2-8150-470c-bd54-da94901b0abb"
      },
      "execution_count": 25,
      "outputs": [
        {
          "output_type": "stream",
          "name": "stderr",
          "text": [
            "WARNING:google_genai.types:Warning: there are non-text parts in the response: ['function_call'], returning concatenated text result from text parts. Check the full candidates.content.parts accessor to get the full model response.\n"
          ]
        },
        {
          "output_type": "stream",
          "name": "stdout",
          "text": [
            "Using Tool: Search the internet with Serper\n",
            "Agent Response:  Here's the latest news about AI agents:\n",
            "\n",
            "*   A new AI agent has \"shocked the market\" (source: YouTube).\n",
            "*   China is experiencing an AI agent boom, with a new general AI agent showing promise despite some initial issues (source: technologyreview.com).\n"
          ]
        }
      ]
    },
    {
      "cell_type": "code",
      "source": [
        "call_agent(\"what's are the latest news about Bolivia?\")"
      ],
      "metadata": {
        "id": "oI5p0aH13BLY",
        "colab": {
          "base_uri": "https://localhost:8080/"
        },
        "outputId": "a94f8282-e042-4ef5-fe74-04cebd5b068a"
      },
      "execution_count": 26,
      "outputs": [
        {
          "output_type": "stream",
          "name": "stderr",
          "text": [
            "WARNING:google_genai.types:Warning: there are non-text parts in the response: ['function_call'], returning concatenated text result from text parts. Check the full candidates.content.parts accessor to get the full model response.\n"
          ]
        },
        {
          "output_type": "stream",
          "name": "stdout",
          "text": [
            "Using Tool: Search the internet with Serper\n",
            "Agent Response:  Here's the latest news about Bolivia:\n",
            "\n",
            "*   A bus crash in Bolivia killed at least 37 people (source: BBC News).\n",
            "*   Five people survived 36 hours in a swamp after a plane crash (source: BBC News).\n",
            "*   Incumbent Luis Arce quit Bolivia's presidential race amid slumping support (source: Al Jazeera).\n",
            "*   Venezuela defeated Bolivia 2-0 in a soccer match (source: AP News).\n"
          ]
        }
      ]
    }
  ]
}