{
  "nbformat": 4,
  "nbformat_minor": 0,
  "metadata": {
    "colab": {
      "provenance": [],
      "include_colab_link": true
    },
    "kernelspec": {
      "name": "python3",
      "display_name": "Python 3"
    },
    "language_info": {
      "name": "python"
    }
  },
  "cells": [
    {
      "cell_type": "markdown",
      "metadata": {
        "id": "view-in-github",
        "colab_type": "text"
      },
      "source": [
        "<a href=\"https://colab.research.google.com/github/nathalyAlarconT/adk-training-notebooks/blob/main/ADK_Basic_Search_Agent.ipynb\" target=\"_parent\"><img src=\"https://colab.research.google.com/assets/colab-badge.svg\" alt=\"Open In Colab\"/></a>"
      ]
    },
    {
      "cell_type": "markdown",
      "source": [
        "# An agent that searches for news on the web using Google"
      ],
      "metadata": {
        "id": "6zjUrsLolx4A"
      }
    },
    {
      "cell_type": "markdown",
      "source": [
        "This agent will have one tool to search in the news using Google Search."
      ],
      "metadata": {
        "id": "bXzIOrZDDDfs"
      }
    },
    {
      "cell_type": "markdown",
      "source": [
        "# Required Libraries"
      ],
      "metadata": {
        "id": "7TU7Vt6R_18f"
      }
    },
    {
      "cell_type": "code",
      "source": [
        "%%capture\n",
        "!pip install google-adk"
      ],
      "metadata": {
        "id": "ArYkP2XJzNKt"
      },
      "execution_count": 1,
      "outputs": []
    },
    {
      "cell_type": "markdown",
      "source": [
        "# Ingredients"
      ],
      "metadata": {
        "id": "eXw8oJrsAVBl"
      }
    },
    {
      "cell_type": "markdown",
      "source": [
        "## First Ingredient\n",
        "Let's get the API KEYs that we need:\n",
        "- GOOGLE API KEY\n",
        "Go to: https://aistudio.google.com/apikey\n",
        "\n",
        "Create a Secret in Google Colab with the following name: GOOGLE_API_KEY"
      ],
      "metadata": {
        "id": "Hcv2k2yRgwN0"
      }
    },
    {
      "cell_type": "markdown",
      "source": [
        "# Let's begin"
      ],
      "metadata": {
        "id": "pr4SinHjAaUV"
      }
    },
    {
      "cell_type": "code",
      "source": [
        "import os\n",
        "from google.adk.agents import Agent\n",
        "from google.adk.runners import Runner\n",
        "from google.adk.sessions import InMemorySessionService\n",
        "from google.genai import types\n",
        "from google.adk.tools import google_search"
      ],
      "metadata": {
        "id": "LhEsMACPzCf-"
      },
      "execution_count": 4,
      "outputs": []
    },
    {
      "cell_type": "code",
      "source": [
        "import google.adk\n",
        "print(google.adk.__version__)"
      ],
      "metadata": {
        "colab": {
          "base_uri": "https://localhost:8080/"
        },
        "id": "b-EGoYXCLKl6",
        "outputId": "6270b214-01ee-40c9-93d6-11190d338427"
      },
      "execution_count": 7,
      "outputs": [
        {
          "output_type": "stream",
          "name": "stdout",
          "text": [
            "1.4.1\n"
          ]
        }
      ]
    },
    {
      "cell_type": "code",
      "source": [
        "from google.colab import userdata\n",
        "\n",
        "os.environ[\"GOOGLE_GENAI_USE_VERTEXAI\"] = \"FALSE\"\n",
        "os.environ[\"GOOGLE_API_KEY\"] = userdata.get('GOOGLE_API_KEY')"
      ],
      "metadata": {
        "id": "u6BSNAXA3n6H"
      },
      "execution_count": 8,
      "outputs": []
    },
    {
      "cell_type": "code",
      "source": [
        "# Constants\n",
        "APP_NAME = \"news_app\"\n",
        "USER_ID = \"user1\"\n",
        "SESSION_ID = \"sess_1\""
      ],
      "metadata": {
        "id": "FGsdx6Qk0-ZE"
      },
      "execution_count": 9,
      "outputs": []
    },
    {
      "cell_type": "code",
      "source": [
        "# Let's define the model to use\n",
        "LLM_MODEL = \"gemini-2.0-flash-lite\""
      ],
      "metadata": {
        "id": "pYCgtrjAAr4a"
      },
      "execution_count": 10,
      "outputs": []
    },
    {
      "cell_type": "code",
      "source": [
        "search_agent = Agent(\n",
        "    name=\"Google_Search_Expert_Agent\",\n",
        "    model=LLM_MODEL,\n",
        "    description=\"This agent is specialized in **retrieving highly relevant and up-to-date information directly from Google Search** to answer a wide range of questions. It's built for accuracy and efficiency in web information gathering.\",\n",
        "    instruction=\"I am your go-to expert for finding **accurate and current answers by leveraging the power of Google Search**. Just ask me any question, and I will efficiently scour the web to provide the most relevant information. For best results, articulate your queries clearly.\",\n",
        "    tools=[google_search]\n",
        ")"
      ],
      "metadata": {
        "id": "kej4HJT02b5i"
      },
      "execution_count": 12,
      "outputs": []
    },
    {
      "cell_type": "code",
      "source": [
        "# Session and Runner\n",
        "session_service = InMemorySessionService()\n",
        "\n",
        "session = await session_service.create_session(\n",
        "    app_name=APP_NAME,\n",
        "    user_id=USER_ID,\n",
        "    session_id=SESSION_ID\n",
        ")\n",
        "print(f\"Session created: App='{APP_NAME}', User='{USER_ID}', Session='{SESSION_ID}'\")\n",
        "\n",
        "\n",
        "runner = Runner(agent=search_agent, app_name=APP_NAME, session_service=session_service)\n"
      ],
      "metadata": {
        "id": "XdowxlwB2kxJ",
        "colab": {
          "base_uri": "https://localhost:8080/"
        },
        "outputId": "b279eeda-0bfd-4c30-953e-e0492fea8c1c"
      },
      "execution_count": 13,
      "outputs": [
        {
          "output_type": "stream",
          "name": "stdout",
          "text": [
            "Session created: App='news_app', User='user1', Session='sess_1'\n"
          ]
        }
      ]
    },
    {
      "cell_type": "code",
      "source": [
        "# Agent Interaction\n",
        "def call_agent(query):\n",
        "    content = types.Content(role='user', parts=[types.Part(text=query)])\n",
        "    events = runner.run(user_id=USER_ID, session_id=SESSION_ID, new_message=content)\n",
        "\n",
        "    for event in events:\n",
        "        if event.is_final_response():\n",
        "            final_response = event.content.parts[0].text\n",
        "            print(\"Agent Response: \", final_response)\n",
        "\n"
      ],
      "metadata": {
        "id": "uAopE-py2m3I"
      },
      "execution_count": 14,
      "outputs": []
    },
    {
      "cell_type": "code",
      "source": [
        "call_agent(\"what are the latest news about AI Agents?\")"
      ],
      "metadata": {
        "colab": {
          "base_uri": "https://localhost:8080/"
        },
        "id": "vbMyhitY2qcs",
        "outputId": "2a01f496-28d2-4150-f949-b21159100c64"
      },
      "execution_count": 15,
      "outputs": [
        {
          "output_type": "stream",
          "name": "stdout",
          "text": [
            "Agent Response:  Here's a summary of the latest news about AI agents:\n",
            "\n",
            "**1. Amazon's Focus on AI Agents:**\n",
            "\n",
            "*   Amazon CEO Andy Jassy expects AI agents to reduce the company's corporate workforce in the coming years.\n",
            "*   Amazon is heavily investing in generative AI technology.\n",
            "*   AI agents are expected to handle tedious tasks, allowing human workers to focus on more creative roles.\n",
            "\n",
            "**2. Emerging Risks and Vulnerabilities:**\n",
            "\n",
            "*   Researchers have warned of \"Living off AI\" attacks, where malicious actors exploit AI agent protocols.\n",
            "*   Atlassian's new AI agent protocol is vulnerable to prompt injection attacks.\n",
            "*   AI is being used to amplify the scale, sophistication, and speed of malicious cyber activities.\n",
            "\n",
            "**3. Shifting Landscape of Software Engineering:**\n",
            "\n",
            "*   APIs are giving way to AI agents as the new building blocks of software.\n",
            "*   Engineers need to update their skills to help agentic systems communicate effectively.\n",
            "*   New standards like Model Context Protocol (MCP) and Agent-to-Agent (A2A) are redefining how systems communicate and collaborate.\n",
            "\n",
            "**4. AI Agents in 2025: Expectations vs. Reality:**\n",
            "\n",
            "*   2025 is considered by many to be the year of the AI agent.\n",
            "*   There's a distinction between current AI agents (LLMs with function calling) and truly autonomous agents.\n",
            "*   AI agents can already analyze data, predict trends, and automate workflows, but building agents that can autonomously handle complex decision-making will take more.\n",
            "\n",
            "**5. AI Agents and Cybercrime:**\n",
            "\n",
            "*   AI agents are amplifying cybercrime threats.\n",
            "*   Malicious AI agents can exploit vulnerabilities to escalate attacks.\n",
            "*   Businesses need to develop strategies to combat AI-enabled threats.\n",
            "\n"
          ]
        }
      ]
    },
    {
      "cell_type": "code",
      "source": [
        "call_agent(\"what are the latest news about Bolivia?\")"
      ],
      "metadata": {
        "id": "oI5p0aH13BLY",
        "colab": {
          "base_uri": "https://localhost:8080/"
        },
        "outputId": "d4998aeb-f780-46fd-8fe6-e265e1428057"
      },
      "execution_count": 16,
      "outputs": [
        {
          "output_type": "stream",
          "name": "stdout",
          "text": [
            "Agent Response:  Here's a summary of the latest news from Bolivia:\n",
            "\n",
            "*   **Political Unrest:** There have been multiple reports of protests and clashes, including anti-government demonstrations. There was also a failed coup attempt.\n",
            "*   **Failed Coup Attempt:** Armored vehicles and soldiers withdrew from outside Bolivia's presidential palace after what appeared to be a failed coup attempt. The army leader was arrested.\n",
            "*   **Elections:** There is discussion about upcoming elections. Former President Evo Morales was barred from running by the electoral tribunal, which has drawn backlash.\n",
            "*   **Violence and Crime:** There have been reports of violence, including a recent clash in a gold-mining community and an alleged dynamite attack. There have also been reports of drug seizures.\n",
            "*   **Economic Issues:** Bolivia is experiencing economic turmoil.\n",
            "\n",
            "\n"
          ]
        }
      ]
    },
    {
      "cell_type": "code",
      "source": [],
      "metadata": {
        "id": "MdDJUVZsLncf"
      },
      "execution_count": null,
      "outputs": []
    }
  ]
}