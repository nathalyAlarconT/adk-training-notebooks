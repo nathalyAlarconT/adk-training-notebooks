{
  "nbformat": 4,
  "nbformat_minor": 0,
  "metadata": {
    "colab": {
      "provenance": [],
      "include_colab_link": true
    },
    "kernelspec": {
      "name": "python3",
      "display_name": "Python 3"
    },
    "language_info": {
      "name": "python"
    }
  },
  "cells": [
    {
      "cell_type": "markdown",
      "metadata": {
        "id": "view-in-github",
        "colab_type": "text"
      },
      "source": [
        "<a href=\"https://colab.research.google.com/github/nathalyAlarconT/adk-training-notebooks/blob/main/ADK_Basic_Search_Agent.ipynb\" target=\"_parent\"><img src=\"https://colab.research.google.com/assets/colab-badge.svg\" alt=\"Open In Colab\"/></a>"
      ]
    },
    {
      "cell_type": "markdown",
      "source": [
        "# An agent that searches for news on the web using Google"
      ],
      "metadata": {
        "id": "6zjUrsLolx4A"
      }
    },
    {
      "cell_type": "markdown",
      "source": [
        "This agent will have one tool to search in the news using Google Search."
      ],
      "metadata": {
        "id": "bXzIOrZDDDfs"
      }
    },
    {
      "cell_type": "markdown",
      "source": [
        "# Required Libraries"
      ],
      "metadata": {
        "id": "7TU7Vt6R_18f"
      }
    },
    {
      "cell_type": "code",
      "source": [
        "%%capture\n",
        "!pip install google-adk"
      ],
      "metadata": {
        "id": "ArYkP2XJzNKt"
      },
      "execution_count": 1,
      "outputs": []
    },
    {
      "cell_type": "markdown",
      "source": [
        "# Ingredients"
      ],
      "metadata": {
        "id": "eXw8oJrsAVBl"
      }
    },
    {
      "cell_type": "markdown",
      "source": [
        "## First Ingredient\n",
        "Let's get the API KEYs that we need:\n",
        "- GOOGLE API KEY\n",
        "Go to: https://aistudio.google.com/apikey\n",
        "\n",
        "Create a Secret in Google Colab with the following name: GOOGLE_API_KEY"
      ],
      "metadata": {
        "id": "Hcv2k2yRgwN0"
      }
    },
    {
      "cell_type": "markdown",
      "source": [
        "# Let's begin"
      ],
      "metadata": {
        "id": "pr4SinHjAaUV"
      }
    },
    {
      "cell_type": "code",
      "source": [
        "import os\n",
        "from google.adk.agents import Agent\n",
        "from google.adk.runners import Runner\n",
        "from google.adk.sessions import InMemorySessionService\n",
        "from google.genai import types\n",
        "from google.adk.tools import google_search"
      ],
      "metadata": {
        "id": "LhEsMACPzCf-"
      },
      "execution_count": 3,
      "outputs": []
    },
    {
      "cell_type": "code",
      "source": [
        "from google.colab import userdata\n",
        "\n",
        "os.environ[\"GOOGLE_GENAI_USE_VERTEXAI\"] = \"FALSE\"\n",
        "os.environ[\"GOOGLE_API_KEY\"] = userdata.get('GOOGLE_API_KEY')"
      ],
      "metadata": {
        "id": "u6BSNAXA3n6H"
      },
      "execution_count": 4,
      "outputs": []
    },
    {
      "cell_type": "code",
      "source": [
        "# Constants\n",
        "APP_NAME = \"news_app\"\n",
        "USER_ID = \"user1\"\n",
        "SESSION_ID = \"sess_1\""
      ],
      "metadata": {
        "id": "FGsdx6Qk0-ZE"
      },
      "execution_count": 5,
      "outputs": []
    },
    {
      "cell_type": "code",
      "source": [
        "# Let's define the model to use\n",
        "LLM_MODEL = \"gemini-2.0-flash-lite\""
      ],
      "metadata": {
        "id": "pYCgtrjAAr4a"
      },
      "execution_count": 6,
      "outputs": []
    },
    {
      "cell_type": "code",
      "source": [
        "search_agent = Agent(\n",
        "    name=\"Google_Search_Expert_Agent\", # Clearer name indicating the specific search engine\n",
        "    model=LLM_MODEL,\n",
        "    description=\"This agent is specialized in **retrieving highly relevant and up-to-date information directly from Google Search** to answer a wide range of questions. It's built for accuracy and efficiency in web information gathering.\",\n",
        "    instruction=\"I am your go-to expert for finding **accurate and current answers by leveraging the power of Google Search**. Just ask me any question, and I will efficiently scour the web to provide the most relevant information. For best results, articulate your queries clearly.\",\n",
        "    tools=[google_search]\n",
        ")"
      ],
      "metadata": {
        "id": "kej4HJT02b5i"
      },
      "execution_count": 9,
      "outputs": []
    },
    {
      "cell_type": "code",
      "source": [
        "# Session and Runner\n",
        "session_service = InMemorySessionService()\n",
        "\n",
        "session = await session_service.create_session(\n",
        "    app_name=APP_NAME,\n",
        "    user_id=USER_ID,\n",
        "    session_id=SESSION_ID\n",
        ")\n",
        "print(f\"Session created: App='{APP_NAME}', User='{USER_ID}', Session='{SESSION_ID}'\")\n",
        "\n",
        "\n",
        "runner = Runner(agent=search_agent, app_name=APP_NAME, session_service=session_service)\n"
      ],
      "metadata": {
        "id": "XdowxlwB2kxJ",
        "colab": {
          "base_uri": "https://localhost:8080/"
        },
        "outputId": "fdcbfa8f-8388-46be-efe9-893453ca5e3f"
      },
      "execution_count": 10,
      "outputs": [
        {
          "output_type": "stream",
          "name": "stdout",
          "text": [
            "Session created: App='news_app', User='user1', Session='sess_1'\n"
          ]
        }
      ]
    },
    {
      "cell_type": "code",
      "source": [
        "# Agent Interaction\n",
        "def call_agent(query):\n",
        "    content = types.Content(role='user', parts=[types.Part(text=query)])\n",
        "    events = runner.run(user_id=USER_ID, session_id=SESSION_ID, new_message=content)\n",
        "\n",
        "    for event in events:\n",
        "        if event.is_final_response():\n",
        "            final_response = event.content.parts[0].text\n",
        "            print(\"Agent Response: \", final_response)\n",
        "\n"
      ],
      "metadata": {
        "id": "uAopE-py2m3I"
      },
      "execution_count": 11,
      "outputs": []
    },
    {
      "cell_type": "code",
      "source": [
        "call_agent(\"what's are the latest news about AI Agents?\")"
      ],
      "metadata": {
        "colab": {
          "base_uri": "https://localhost:8080/"
        },
        "id": "vbMyhitY2qcs",
        "outputId": "d6a4caf4-e48a-4faf-c7dc-2e15f9b79b65"
      },
      "execution_count": 12,
      "outputs": [
        {
          "output_type": "stream",
          "name": "stdout",
          "text": [
            "Agent Response:  Here's a summary of the latest news regarding AI Agents:\n",
            "\n",
            "**General Trends and Developments:**\n",
            "\n",
            "*   **Increased Adoption:** AI agents are rapidly being adopted across various industries.\n",
            "*   **Proactive and Autonomous Agents:** Agents are becoming more proactive and capable of handling complex tasks with minimal human input.\n",
            "*   **Multi-modal Capabilities:** Agents are integrating text, voice, images, and video for more natural interactions.\n",
            "*   **Multi-Agent Systems:** Organizations are deploying multi-agent systems to manage and optimize business processes.\n",
            "*   **AI Agent Building Frameworks:** There's a growing focus on frameworks to build and manage AI agents.\n",
            "*   **Integration with IoT and Personal Devices:** Agents are increasingly integrated with IoT devices and personal devices.\n",
            "*   **Ethical AI and Transparency:** There's a growing emphasis on ethical considerations and transparency in AI agent decision-making.\n",
            "*   **Enhanced Communication and Collaboration:** Tools for enhanced communication and collaboration are being developed.\n",
            "\n",
            "**Specific News and Innovations:**\n",
            "\n",
            "*   **Postman's New AI Agent Mode:** This reshapes API development, offering faster workflow automation through natural language commands.\n",
            "*   **Intuit's GenOS 3.0:** This platform redefines what's possible for AI agents, enabling small businesses to automate tasks.\n",
            "*   **Greenlite AI:** They unveiled an agentic compliance framework that automates \"enhanced due diligence\" for high-risk banking clients.\n",
            "*   **Fujitsu's Agentic Workflow Orchestrator:** This framework enables developers to create multi-agent systems that self-optimize workflows in real-time.\n",
            "*   **Adobe's 10 AI Agents:** Adobe has launched 10 AI-powered agents capable of automating various tasks in marketing, sales, content production, and customer engagement.\n",
            "*   **Microsoft's New Tools:** Microsoft unveiled new agents, tools, and features to help developers work more efficiently and build capable and secure AI agents.\n",
            "\n",
            "**Impact and Implications:**\n",
            "\n",
            "*   **Increased Productivity:** AI agents are expected to increase the productivity of knowledge workers and make workflows more efficient.\n",
            "*   **Automation of Tasks:** Agents are automating routine and repetitive tasks across industries.\n",
            "*   **Transformation of Industries:** AI agents have the potential to reshape entire industries.\n",
            "*   **Job Market Shifts:** There are potential shifts in the job market, with new roles emerging that focus on managing and directing AI workflows.\n",
            "*   **Ethical Considerations:** There are concerns about privacy, security, human autonomy, and the need for responsible development.\n",
            "\n"
          ]
        }
      ]
    },
    {
      "cell_type": "code",
      "source": [
        "call_agent(\"what's are the latest news about Bolivia?\")"
      ],
      "metadata": {
        "id": "oI5p0aH13BLY",
        "colab": {
          "base_uri": "https://localhost:8080/"
        },
        "outputId": "2ad1f409-e995-4093-9355-6cd765f95b42"
      },
      "execution_count": 13,
      "outputs": [
        {
          "output_type": "stream",
          "name": "stdout",
          "text": [
            "Agent Response:  Here's a summary of the latest news about Bolivia:\n",
            "\n",
            "**Politics and Elections:**\n",
            "\n",
            "*   **2025 Presidential Elections:** Bolivia is gearing up for presidential elections in 2025. Key political figures and parties are beginning to position themselves.\n",
            "*   **Political Tensions:** There are ongoing political tensions and debates regarding the direction of the country.\n",
            "*   **Government Policies:** Discussions and developments regarding government policies on various issues.\n",
            "\n",
            "**Economy:**\n",
            "\n",
            "*   **Economic Outlook:** News and analysis regarding Bolivia's economic performance, including growth, inflation, and key economic indicators.\n",
            "*   **Trade and Investment:** Developments in international trade agreements, foreign investment, and their impact on the Bolivian economy.\n",
            "*   **Natural Resources:** Updates on the exploitation of natural resources, such as lithium and gas, and their economic implications.\n",
            "\n",
            "**Social Issues:**\n",
            "\n",
            "*   **Social Movements:** Coverage of social movements, protests, and demonstrations related to various issues.\n",
            "*   **Indigenous Rights:** Developments concerning indigenous rights, land rights, and related social issues.\n",
            "\n",
            "**Other Key Areas:**\n",
            "\n",
            "*   **Infrastructure Projects:** News on infrastructure projects, such as road construction, energy projects, and their progress.\n",
            "*   **Environmental Issues:** Coverage of environmental issues, including climate change impacts, conservation efforts, and deforestation.\n",
            "*   **International Relations:** Updates on Bolivia's relationships with other countries and international organizations.\n",
            "\n",
            "To get even more specific details, it is recommended to search for news on the specific areas that interest you, such as the economy, politics, social issues, etc.\n",
            "\n"
          ]
        }
      ]
    }
  ]
}